{
  "cells": [
    {
      "cell_type": "code",
      "execution_count": 1,
      "metadata": {
        "colab": {
          "base_uri": "https://localhost:8080/"
        },
        "id": "0bvNWqGNOxPi",
        "outputId": "ad6b0961-3f02-4624-a295-0e1170e72d34"
      },
      "outputs": [
        {
          "name": "stdout",
          "output_type": "stream",
          "text": [
            "Branch 'feature/initial-tests' set up to track remote branch 'feature/initial-tests' from 'origin'.\n"
          ]
        },
        {
          "name": "stderr",
          "output_type": "stream",
          "text": [
            "Cloning into 'PoliToHFI-SemEval2023-Task6'...\n",
            "Switched to a new branch 'feature/initial-tests'\n"
          ]
        }
      ],
      "source": [
        "%%bash\n",
        "git clone https://github.com/ssoBAekiL/PoliToHFI-SemEval2023-Task6.git\n",
        "cd PoliToHFI-SemEval2023-Task6\n",
        "git switch feature/german_ext\n",
        "apt install python3.10-venv\n",
        "python3 -m venv NER\n",
        "source NER/bin/activate\n",
        "pip install datasets\n",
        "python3 cast_dataset/main.ipynb"
      ]
    }
  ],
  "metadata": {
    "accelerator": "GPU",
    "colab": {
      "gpuType": "T4",
      "provenance": []
    },
    "kernelspec": {
      "display_name": "Python 3",
      "name": "python3"
    },
    "language_info": {
      "name": "python"
    },
    "orig_nbformat": 4
  },
  "nbformat": 4,
  "nbformat_minor": 0
}
