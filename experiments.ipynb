{
 "cells": [
  {
   "cell_type": "code",
   "execution_count": 2,
   "metadata": {},
   "outputs": [],
   "source": [
    "import json\n",
    "import uuid\n",
    "import re"
   ]
  },
  {
   "cell_type": "code",
   "execution_count": 3,
   "metadata": {},
   "outputs": [],
   "source": [
    "# open txt file\n",
    "with open('out_boe_2010_25k7_sm_Spacy_RE_DIR3_LOC_ORG_PER.txt', 'r') as file:\n",
    "    # read all lines\n",
    "    lines = file.readlines()"
   ]
  },
  {
   "cell_type": "code",
   "execution_count": 4,
   "metadata": {},
   "outputs": [],
   "source": [
    "def convert_to_format(txt_entry):\n",
    "    line = eval(txt_entry)\n",
    "    text = line[0]\n",
    "    entities = line[1]['entities']\n",
    "\n",
    "    annotation_result = []\n",
    "    for entity in entities:\n",
    "        start_idx, end_idx, label = entity\n",
    "        label = re.sub(r'\\W+', '', label.lower())  # Remove non-alphanumeric characters and convert to lowercase\n",
    "        annotation_result.append({\n",
    "            \"value\": {\n",
    "                \"start\": start_idx,\n",
    "                \"end\": end_idx,\n",
    "                \"text\": text[start_idx:end_idx],\n",
    "                \"labels\": [label]\n",
    "            },\n",
    "            \"id\": \"TEST1\",\n",
    "            \"from_name\": \"label\",\n",
    "            \"to_name\": \"text\",\n",
    "            \"type\": \"labels\"\n",
    "        })\n",
    "\n",
    "    entry_id = str(uuid.uuid4())\n",
    "    result = {\n",
    "        \"id\": entry_id,\n",
    "        \"annotations\": [\n",
    "            {\n",
    "                \"result\": annotation_result\n",
    "            }\n",
    "        ],\n",
    "        \"data\": {\n",
    "            \"text\": text\n",
    "        }\n",
    "    }\n",
    "\n",
    "    return result"
   ]
  },
  {
   "cell_type": "code",
   "execution_count": 5,
   "metadata": {},
   "outputs": [],
   "source": [
    "dataset = []\n",
    "\n",
    "for line in lines:\n",
    "    dataset.append(convert_to_format(line))"
   ]
  },
  {
   "cell_type": "code",
   "execution_count": 36,
   "metadata": {},
   "outputs": [],
   "source": [
    "# write dataset to json file\n",
    "with open('SPANISH_ALL.json', 'w') as outfile:\n",
    "    json.dump(dataset, outfile)"
   ]
  },
  {
   "cell_type": "code",
   "execution_count": null,
   "metadata": {},
   "outputs": [],
   "source": [
    "# Select 10% of the dataset for testing and dump into json file\n",
    "import random\n",
    "random.shuffle(dataset)\n",
    "test_size = int(len(dataset) * 0.1)\n",
    "test_dataset = dataset[:test_size]\n",
    "with open('SPANISH_TEST.json', 'w') as outfile:\n",
    "    json.dump(test_dataset, outfile)\n"
   ]
  },
  {
   "cell_type": "code",
   "execution_count": 8,
   "metadata": {},
   "outputs": [],
   "source": [
    "# Given the full dataset divide it into 85% training, 10% validation, 5% testing\n",
    "import random\n",
    "random.shuffle(dataset)\n",
    "test_size = int(len(dataset) * 0.05)\n",
    "train_size = int(len(train_dataset) * 0.90)\n",
    "test_dataset = dataset[:test_size]\n",
    "train_dataset = dataset[test_size:train_size]\n",
    "valid_dataset = dataset[train_size:]\n",
    "with open('SPANISH_TRAIN.json', 'w') as outfile:\n",
    "    json.dump(train_dataset, outfile)\n",
    "with open('SPANISH_VALID.json', 'w') as outfile:\n",
    "    json.dump(valid_dataset, outfile)\n",
    "with open('SPANISH_TEST.json', 'w') as outfile:\n",
    "    json.dump(test_dataset, outfile)\n",
    "\n",
    "    "
   ]
  }
 ],
 "metadata": {
  "kernelspec": {
   "display_name": "CLA4LSP-env",
   "language": "python",
   "name": "python3"
  },
  "language_info": {
   "codemirror_mode": {
    "name": "ipython",
    "version": 3
   },
   "file_extension": ".py",
   "mimetype": "text/x-python",
   "name": "python",
   "nbconvert_exporter": "python",
   "pygments_lexer": "ipython3",
   "version": "3.10.12"
  }
 },
 "nbformat": 4,
 "nbformat_minor": 2
}
