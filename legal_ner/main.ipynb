{
  "cells": [
    {
      "cell_type": "code",
      "execution_count": null,
      "metadata": {
        "id": "sBWm6oJgOIs-"
      },
      "outputs": [],
      "source": [
        "print('hello word')"
      ]
    },
    {
      "cell_type": "code",
      "source": [
        "print('prova')"
      ],
      "metadata": {
        "id": "OJvHNsN3OaGD"
      },
      "execution_count": null,
      "outputs": []
    }
  ],
  "metadata": {
    "language_info": {
      "name": "python"
    },
    "orig_nbformat": 4,
    "colab": {
      "provenance": []
    },
    "kernelspec": {
      "name": "python3",
      "display_name": "Python 3"
    }
  },
  "nbformat": 4,
  "nbformat_minor": 0
}