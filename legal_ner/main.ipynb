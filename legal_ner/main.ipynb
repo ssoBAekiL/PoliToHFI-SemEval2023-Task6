{
  "cells": [
    {
      "cell_type": "code",
      "execution_count": null,
      "metadata": {
        "colab": {
          "base_uri": "https://localhost:8080/"
        },
        "id": "0bvNWqGNOxPi",
        "outputId": "ad6b0961-3f02-4624-a295-0e1170e72d34"
      },
      "outputs": [],
      "source": [
        "%%bash\n",
        "git clone https://github.com/ssoBAekiL/PoliToHFI-SemEval2023-Task6.git\n",
        "cd PoliToHFI-SemEval2023-Task6\n",
        "git switch feature/german_ext\n",
        "cd ..\n",
        "apt install python3.10-venv\n",
        "python3 -m venv .dataset_venv\n",
        "source .dataset_venv/bin/activate\n",
        "pip install datasets\n",
        "python3 PoliToHFI-SemEval2023-Task6/cast_dataset/main.py\n",
        "mv *.json PoliToHFI-SemEval2023-Task6/legal_ner/data/\n",
        "deactivate"
      ]
    },
    {
      "cell_type": "code",
      "execution_count": null,
      "metadata": {},
      "outputs": [],
      "source": [
        "%%bash\n",
        "python3 -m venv .ner_venv\n",
        "source .ner_venv/bin/activate\n",
        "pip install -r PoliToHFI-SemEval2023-Task6/legal_ner/requirements.txt\n",
        "deactivate"
      ]
    },
    {
      "cell_type": "code",
      "execution_count": null,
      "metadata": {},
      "outputs": [],
      "source": [
        "!source .ner_venv/bin/activate; \\\n",
        "    python3 PoliToHFI-SemEval2023-Task6/legal_ner/main.py \\\n",
        "        --ds_train_path train.json \\\n",
        "        --ds_valid_path validation.json \\\n",
        "        --output_folder results/ \\\n",
        "        --batch 128 \\\n",
        "        --num_epochs 5 \\\n",
        "        --lr 1e-4 \\\n",
        "        --weight_decay 0.01 \\\n",
        "        --warmup_ratio 0.06"
      ]
    }
  ],
  "metadata": {
    "accelerator": "GPU",
    "colab": {
      "gpuType": "T4",
      "provenance": []
    },
    "kernelspec": {
      "display_name": "Python 3",
      "name": "python3"
    },
    "language_info": {
      "name": "python"
    },
    "orig_nbformat": 4
  },
  "nbformat": 4,
  "nbformat_minor": 0
}
