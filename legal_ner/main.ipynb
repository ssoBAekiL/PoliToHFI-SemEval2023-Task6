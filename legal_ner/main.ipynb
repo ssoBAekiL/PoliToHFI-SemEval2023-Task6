{
  "cells": [
    {
      "cell_type": "code",
      "execution_count": null,
      "metadata": {
        "id": "sBWm6oJgOIs-"
      },
      "outputs": [],
      "source": [
        "print('hello word')"
      ]
    },
    {
      "cell_type": "code",
      "execution_count": null,
      "metadata": {
        "id": "OJvHNsN3OaGD"
      },
      "outputs": [],
      "source": [
        "print('prova')"
      ]
    }
  ],
  "metadata": {
    "colab": {
      "provenance": []
    },
    "kernelspec": {
      "display_name": "Python 3",
      "name": "python3"
    },
    "language_info": {
      "name": "python"
    },
    "orig_nbformat": 4
  },
  "nbformat": 4,
  "nbformat_minor": 0
}
